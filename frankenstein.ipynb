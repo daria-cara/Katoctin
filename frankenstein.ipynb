{
 "cells": [
  {
   "cell_type": "code",
   "execution_count": 9,
   "metadata": {},
   "outputs": [],
   "source": [
    "%matplotlib inline \n",
    "from astroquery.mast import Observations\n",
    "from astropy.io import fits\n",
    "from astropy.wcs import WCS\n",
    "import numpy as np\n",
    "import matplotlib.pyplot as plt"
   ]
  },
  {
   "cell_type": "code",
   "execution_count": 11,
   "metadata": {},
   "outputs": [],
   "source": [
    "#This combo for sure works\n",
    "#star = EPIC 201833600\n",
    "#observer = k2\n",
    "#For that, you will \"want\" dataProducts['description'] == \"Lightcurve Long Cadence (KLC) - C01\"\n",
    "#(Will comment lower down)\n",
    "star = \"EPIC 201497682\" # input(\"What star would you like to look at?\")\n",
    "observer = \"hlsp_everest\" #input(\"Whose data do you want?\")"
   ]
  },
  {
   "cell_type": "code",
   "execution_count": 13,
   "metadata": {},
   "outputs": [
    {
     "name": "stdout",
     "output_type": "stream",
     "text": [
      "Number of Observations: 17\n"
     ]
    }
   ],
   "source": [
    "obsCount = Observations.query_criteria_count(obs_collection = \"K2\",\n",
    "                                             dataproduct_type = [\"timeseries\"],\n",
    "                                             instrument_name = \"Kepler\",\n",
    "                                             objectname = star,\n",
    "                                             project = observer  \n",
    "                                             )\n",
    "print(\"Number of Observations: %i\" % obsCount)\n"
   ]
  },
  {
   "cell_type": "code",
   "execution_count": 15,
   "metadata": {},
   "outputs": [
    {
     "data": {
      "text/html": [
       "<i>Table masked=True length=5</i>\n",
       "<table id=\"table140023287374904\" class=\"table-striped table-bordered table-condensed\">\n",
       "<thead><tr><th>obsid</th><th>proposal_id</th><th>obs_id</th></tr></thead>\n",
       "<thead><tr><th>str10</th><th>str34</th><th>str23</th></tr></thead>\n",
       "<tr><td>9600004204</td><td>GO1059</td><td>everest201491499-c01_lc</td></tr>\n",
       "<tr><td>9600021778</td><td>GO1007_GO1048</td><td>everest201502195-c01_lc</td></tr>\n",
       "<tr><td>9600023148</td><td>GO1036_GO1053_GO1059</td><td>everest201488486-c01_lc</td></tr>\n",
       "<tr><td>9600004213</td><td>GO1059</td><td>everest201497682-c01_lc</td></tr>\n",
       "<tr><td>9600008739</td><td>GO1054</td><td>everest201496678-c01_lc</td></tr>\n",
       "</table>"
      ],
      "text/plain": [
       "<Table masked=True length=5>\n",
       "  obsid        proposal_id               obs_id        \n",
       "  str10           str34                  str23         \n",
       "---------- -------------------- -----------------------\n",
       "9600004204               GO1059 everest201491499-c01_lc\n",
       "9600021778        GO1007_GO1048 everest201502195-c01_lc\n",
       "9600023148 GO1036_GO1053_GO1059 everest201488486-c01_lc\n",
       "9600004213               GO1059 everest201497682-c01_lc\n",
       "9600008739               GO1054 everest201496678-c01_lc"
      ]
     },
     "execution_count": 15,
     "metadata": {},
     "output_type": "execute_result"
    }
   ],
   "source": [
    "obsTable = Observations.query_criteria(obs_collection = \"K2\",\n",
    "                                             dataproduct_type = [\"timeseries\"],\n",
    "                                             instrument_name = \"Kepler\",\n",
    "                                             objectname = star,\n",
    "                                             project = observer   \n",
    "                                             )\n",
    "obsTable[0:5]['obsid','proposal_id','obs_id']"
   ]
  },
  {
   "cell_type": "code",
   "execution_count": 17,
   "metadata": {},
   "outputs": [
    {
     "data": {
      "text/plain": [
       "['obsID',\n",
       " 'obs_collection',\n",
       " 'dataproduct_type',\n",
       " 'obs_id',\n",
       " 'description',\n",
       " 'type',\n",
       " 'dataURI',\n",
       " 'productType',\n",
       " 'productGroupDescription',\n",
       " 'productSubGroupDescription',\n",
       " 'productDocumentationURL',\n",
       " 'project',\n",
       " 'prvversion',\n",
       " 'proposal_id',\n",
       " 'productFilename',\n",
       " 'size',\n",
       " 'parent_obsid']"
      ]
     },
     "execution_count": 17,
     "metadata": {},
     "output_type": "execute_result"
    }
   ],
   "source": [
    "dataProducts = Observations.get_product_list(obsTable[0:6])\n",
    "dataProducts.colnames"
   ]
  },
  {
   "cell_type": "code",
   "execution_count": 19,
   "metadata": {},
   "outputs": [
    {
     "data": {
      "text/html": [
       "<i>Table masked=True length=18</i>\n",
       "<table id=\"table140023287343760\" class=\"table-striped table-bordered table-condensed\">\n",
       "<thead><tr><th>obsID</th><th>productFilename</th><th>description</th></tr></thead>\n",
       "<thead><tr><th>str10</th><th>str58</th><th>str23</th></tr></thead>\n",
       "<tr><td>9600023148</td><td>hlsp_everest_k2_llc_201488486-c01_kepler_v2.0_dvs.pdf</td><td>Data validation summary</td></tr>\n",
       "<tr><td>9600023148</td><td>hlsp_everest_k2_llc_201488486-c01_kepler_v2.0_dvs-prev.png</td><td>Preview-Full</td></tr>\n",
       "<tr><td>9600023148</td><td>hlsp_everest_k2_llc_201488486-c01_kepler_v2.0_lc.fits</td><td>Detrended light curve</td></tr>\n",
       "<tr><td>9600002707</td><td>hlsp_everest_k2_llc_201491139-c01_kepler_v2.0_dvs.pdf</td><td>Data validation summary</td></tr>\n",
       "<tr><td>9600002707</td><td>hlsp_everest_k2_llc_201491139-c01_kepler_v2.0_dvs-prev.png</td><td>Preview-Full</td></tr>\n",
       "<tr><td>9600002707</td><td>hlsp_everest_k2_llc_201491139-c01_kepler_v2.0_lc.fits</td><td>Detrended light curve</td></tr>\n",
       "<tr><td>9600004204</td><td>hlsp_everest_k2_llc_201491499-c01_kepler_v2.0_dvs.pdf</td><td>Data validation summary</td></tr>\n",
       "<tr><td>9600004204</td><td>hlsp_everest_k2_llc_201491499-c01_kepler_v2.0_dvs-prev.png</td><td>Preview-Full</td></tr>\n",
       "<tr><td>9600004204</td><td>hlsp_everest_k2_llc_201491499-c01_kepler_v2.0_lc.fits</td><td>Detrended light curve</td></tr>\n",
       "<tr><td>9600008739</td><td>hlsp_everest_k2_llc_201496678-c01_kepler_v2.0_dvs.pdf</td><td>Data validation summary</td></tr>\n",
       "<tr><td>9600008739</td><td>hlsp_everest_k2_llc_201496678-c01_kepler_v2.0_dvs-prev.png</td><td>Preview-Full</td></tr>\n",
       "<tr><td>9600008739</td><td>hlsp_everest_k2_llc_201496678-c01_kepler_v2.0_lc.fits</td><td>Detrended light curve</td></tr>\n",
       "<tr><td>9600004213</td><td>hlsp_everest_k2_llc_201497682-c01_kepler_v2.0_dvs.pdf</td><td>Data validation summary</td></tr>\n",
       "<tr><td>9600004213</td><td>hlsp_everest_k2_llc_201497682-c01_kepler_v2.0_dvs-prev.png</td><td>Preview-Full</td></tr>\n",
       "<tr><td>9600004213</td><td>hlsp_everest_k2_llc_201497682-c01_kepler_v2.0_lc.fits</td><td>Detrended light curve</td></tr>\n",
       "<tr><td>9600021778</td><td>hlsp_everest_k2_llc_201502195-c01_kepler_v2.0_dvs.pdf</td><td>Data validation summary</td></tr>\n",
       "<tr><td>9600021778</td><td>hlsp_everest_k2_llc_201502195-c01_kepler_v2.0_dvs-prev.png</td><td>Preview-Full</td></tr>\n",
       "<tr><td>9600021778</td><td>hlsp_everest_k2_llc_201502195-c01_kepler_v2.0_lc.fits</td><td>Detrended light curve</td></tr>\n",
       "</table>"
      ],
      "text/plain": [
       "<Table masked=True length=18>\n",
       "  obsID    ...       description      \n",
       "  str10    ...          str23         \n",
       "---------- ... -----------------------\n",
       "9600023148 ... Data validation summary\n",
       "9600023148 ...            Preview-Full\n",
       "9600023148 ...   Detrended light curve\n",
       "9600002707 ... Data validation summary\n",
       "9600002707 ...            Preview-Full\n",
       "9600002707 ...   Detrended light curve\n",
       "9600004204 ... Data validation summary\n",
       "9600004204 ...            Preview-Full\n",
       "9600004204 ...   Detrended light curve\n",
       "9600008739 ... Data validation summary\n",
       "9600008739 ...            Preview-Full\n",
       "9600008739 ...   Detrended light curve\n",
       "9600004213 ... Data validation summary\n",
       "9600004213 ...            Preview-Full\n",
       "9600004213 ...   Detrended light curve\n",
       "9600021778 ... Data validation summary\n",
       "9600021778 ...            Preview-Full\n",
       "9600021778 ...   Detrended light curve"
      ]
     },
     "execution_count": 19,
     "metadata": {},
     "output_type": "execute_result"
    }
   ],
   "source": [
    "dataProducts['obsID', 'productFilename', 'description']"
   ]
  },
  {
   "cell_type": "code",
   "execution_count": 21,
   "metadata": {},
   "outputs": [
    {
     "name": "stdout",
     "output_type": "stream",
     "text": [
      "  obsID    obs_collection dataproduct_type ...   size   parent_obsid\n",
      "---------- -------------- ---------------- ... -------- ------------\n",
      "9600023148             K2       timeseries ... 15359040   9600023148\n",
      "9600002707             K2       timeseries ... 15287040   9600002707\n",
      "9600004204             K2       timeseries ... 15361920   9600004204\n",
      "9600008739             K2       timeseries ... 15436800   9600008739\n",
      "9600004213             K2       timeseries ... 15390720   9600004213\n",
      "9600021778             K2       timeseries ... 15295680   9600021778\n"
     ]
    }
   ],
   "source": [
    "#HERE is that want statement\n",
    "#It changes from star to star, observer to observer\n",
    "want = [\"lightcurve\" in x or \"light curve\" in x for x in map(str.lower, dataProducts['description'])]\n",
    "print(dataProducts[want])"
   ]
  },
  {
   "cell_type": "code",
   "execution_count": 23,
   "metadata": {},
   "outputs": [
    {
     "name": "stdout",
     "output_type": "stream",
     "text": [
      "INFO: Found cached file ./mastDownload/K2/everest201488486-c01_lc/hlsp_everest_k2_llc_201488486-c01_kepler_v2.0_lc.fits with expected size 15359040. [astroquery.query]\n",
      "INFO: Found cached file ./mastDownload/K2/everest201491139-c01_lc/hlsp_everest_k2_llc_201491139-c01_kepler_v2.0_lc.fits with expected size 15287040. [astroquery.query]\n",
      "INFO: Found cached file ./mastDownload/K2/everest201491499-c01_lc/hlsp_everest_k2_llc_201491499-c01_kepler_v2.0_lc.fits with expected size 15361920. [astroquery.query]\n",
      "INFO: Found cached file ./mastDownload/K2/everest201496678-c01_lc/hlsp_everest_k2_llc_201496678-c01_kepler_v2.0_lc.fits with expected size 15436800. [astroquery.query]\n",
      "INFO: Found cached file ./mastDownload/K2/everest201497682-c01_lc/hlsp_everest_k2_llc_201497682-c01_kepler_v2.0_lc.fits with expected size 15390720. [astroquery.query]\n",
      "INFO: Found cached file ./mastDownload/K2/everest201502195-c01_lc/hlsp_everest_k2_llc_201502195-c01_kepler_v2.0_lc.fits with expected size 15295680. [astroquery.query]\n",
      "                                           Local Path                                           ...\n",
      "----------------------------------------------------------------------------------------------- ...\n",
      "./mastDownload/K2/everest201488486-c01_lc/hlsp_everest_k2_llc_201488486-c01_kepler_v2.0_lc.fits ...\n",
      "./mastDownload/K2/everest201491139-c01_lc/hlsp_everest_k2_llc_201491139-c01_kepler_v2.0_lc.fits ...\n",
      "./mastDownload/K2/everest201491499-c01_lc/hlsp_everest_k2_llc_201491499-c01_kepler_v2.0_lc.fits ...\n",
      "./mastDownload/K2/everest201496678-c01_lc/hlsp_everest_k2_llc_201496678-c01_kepler_v2.0_lc.fits ...\n",
      "./mastDownload/K2/everest201497682-c01_lc/hlsp_everest_k2_llc_201497682-c01_kepler_v2.0_lc.fits ...\n",
      "./mastDownload/K2/everest201502195-c01_lc/hlsp_everest_k2_llc_201502195-c01_kepler_v2.0_lc.fits ...\n"
     ]
    }
   ],
   "source": [
    "manifest = Observations.download_products(dataProducts[want])\n",
    "print(manifest)"
   ]
  },
  {
   "cell_type": "code",
   "execution_count": 25,
   "metadata": {},
   "outputs": [
    {
     "name": "stdout",
     "output_type": "stream",
     "text": [
      "Filename: ./mastDownload/K2/everest201488486-c01_lc/hlsp_everest_k2_llc_201488486-c01_kepler_v2.0_lc.fits\n",
      "No.    Name      Ver    Type      Cards   Dimensions   Format\n",
      "  0  PRIMARY       1 PrimaryHDU      29   ()      \n",
      "  1  ARRAYS        1 BinTableHDU    319   4022R x 14C   [D, D, D, D, J, D, D, D, D, D, D, D, D, D]   \n",
      "  2  PIXELS        1 BinTableHDU     19   4022R x 2C   [40D, 416D]   \n",
      "  3  APERTURE MASK    1 ImageHDU        54   (16, 15)   int64   \n",
      "  4  POSTAGE STAMPS    1 BinTableHDU     61   15R x 3C   [16D, 16D, 16D]   \n",
      "  5  HI RES IMAGE    1 ImageHDU        54   (160, 150)   float64   \n"
     ]
    }
   ],
   "source": [
    "lchdu = fits.open(manifest['Local Path'][0])\n",
    "fits.info(manifest['Local Path'][0])\n",
    "#fits.getheader(manifest['Local Path'][0],ext=2)"
   ]
  },
  {
   "cell_type": "code",
   "execution_count": 27,
   "metadata": {},
   "outputs": [],
   "source": [
    "#Open and view columns in lightcurve extension\n",
    "lcdata = lchdu[1].data\n",
    "if observer == \"k2\":\n",
    "    uncor_flux = lcdata['SAP_FLUX']\n",
    "    cor_flux = lcdata['PDCSAP_FLUX']\n",
    "    quality = lcdata['SAP_QUALITY']\n",
    "    time = lcdata['TIME']\n",
    "elif observer == \"hlsp_everest\":\n",
    "    uncor_flux = lcdata['FRAW']\n",
    "    cor_flux = lcdata['FLUX']\n",
    "    quality = lcdata['QUALITY']\n",
    "    time = lcdata['TIME']\n",
    "elif observer == \"hlsp_k2sff\":\n",
    "    uncor_flux = lcdata['FRAW']\n",
    "    cor_flux = lcdata['FCOR']\n",
    "    quality = lcdata['QUALITY']\n",
    "    time = lcdata['T']"
   ]
  },
  {
   "cell_type": "code",
   "execution_count": 29,
   "metadata": {},
   "outputs": [
    {
     "name": "stdout",
     "output_type": "stream",
     "text": [
      "ColDefs(\n",
      "    name = 'CADN'; format = 'D'\n",
      "    name = 'FLUX'; format = 'D'; unit = 'e-/s'\n",
      "    name = 'FRAW'; format = 'D'; unit = 'e-/s'\n",
      "    name = 'FRAW_ERR'; format = 'D'; unit = 'e-/s'\n",
      "    name = 'QUALITY'; format = 'J'\n",
      "    name = 'TIME'; format = 'D'; unit = 'BJD - 2454833'\n",
      "    name = 'FCOR'; format = 'D'; unit = 'e-/s'\n",
      "    name = 'CBV01'; format = 'D'\n",
      "    name = 'CBV02'; format = 'D'\n",
      "    name = 'CBV03'; format = 'D'\n",
      "    name = 'CBV04'; format = 'D'\n",
      "    name = 'CBV05'; format = 'D'\n",
      "    name = 'CBV06'; format = 'D'\n",
      "    name = 'BKG'; format = 'D'; unit = 'e-/s'\n",
      ")\n",
      "This is SAP_FLUX:[7728.08204651 7711.87802124 7718.97348022 ... 8459.09411621 8459.16918945\n",
      " 8459.91601562]\n",
      "This is PDCSAP_FLUX:[3261.80433477 3239.50388011 3249.97397497 ... 8429.50632891 8429.83042809\n",
      " 8425.49575689]\n"
     ]
    }
   ],
   "source": [
    "print(lchdu[1].columns)\n",
    "print(\"This is SAP_FLUX:\" + str(uncor_flux))\n",
    "print(\"This is PDCSAP_FLUX:\" + str(cor_flux))"
   ]
  },
  {
   "cell_type": "code",
   "execution_count": 36,
   "metadata": {},
   "outputs": [
    {
     "data": {
      "text/plain": [
       "(8200, 8600)"
      ]
     },
     "execution_count": 36,
     "metadata": {},
     "output_type": "execute_result"
    },
    {
     "data": {
      "image/png": "[encoded data removed]",
      "text/plain": [
       "<Figure size 792x288 with 2 Axes>"
      ]
     },
     "metadata": {
      "needs_background": "light"
     },
     "output_type": "display_data"
    }
   ],
   "source": [
    "sapflux = uncor_flux\n",
    "pdcflux = cor_flux\n",
    "time = lcdata['TIME']\n",
    "\n",
    "fig = plt.figure(figsize = (11,4))\n",
    "\n",
    "#Changing the y-axis affects what you can see\n",
    "#It changes from star to star, again.\n",
    "#Is there a way to universalize this?\n",
    "fig.add_subplot(211)\n",
    "plt.plot(time, sapflux,'.', label = 'SAP')\n",
    "plt.legend(loc = 'lower left')\n",
    "#plt.ylim(np.amin(sapflux[~np.isnan(sapflux)])-1000,np.amax(sapflux[~np.isnan(sapflux)])+1000)  #Zoom in\n",
    "plt.ylim(7000,9000)\n",
    "\n",
    "fig.add_subplot(212)\n",
    "plt.plot(time, pdcflux,'.', label = 'PDC')\n",
    "plt.legend(loc = 'lower left')\n",
    "plt.xlabel('TIME (BTJD)')\n",
    "#plt.ylim(np.amin(pdcflux[~np.isnan(pdcflux)])-1000,np.amax(pdcflux[~np.isnan(pdcflux)])+1000)\n",
    "plt.ylim(8200,8600)"
   ]
  },
  {
   "cell_type": "code",
   "execution_count": 31,
   "metadata": {},
   "outputs": [
    {
     "name": "stdout",
     "output_type": "stream",
     "text": [
      "[ True  True  True  True  True]\n"
     ]
    }
   ],
   "source": [
    "bad_bits = np.array([1,2,3,4,5,6,8,10,12])\n",
    "value = 0\n",
    "for v in bad_bits:\n",
    "    value = value + 2**(v-1)\n",
    "    \n",
    "bad_data = np.bitwise_and(quality, value) >= 1 \n",
    "print(bad_data[0:5])"
   ]
  },
  {
   "cell_type": "code",
   "execution_count": 32,
   "metadata": {},
   "outputs": [
    {
     "data": {
      "text/plain": [
       "Text(0.5, 0, 'TIME (BTJD)')"
      ]
     },
     "execution_count": 32,
     "metadata": {},
     "output_type": "execute_result"
    },
    {
     "data": {
      "image/png": "[encoded data removed]",
      "text/plain": [
       "<Figure size 1008x360 with 2 Axes>"
      ]
     },
     "metadata": {
      "needs_background": "light"
     },
     "output_type": "display_data"
    }
   ],
   "source": [
    "#Same plot as before with flagged data removed.\n",
    "fig = plt.figure(figsize = (14,5))\n",
    "fig.add_subplot(211)\n",
    "plt.plot(time[~bad_data], sapflux[~bad_data], '.', label = 'SAP')\n",
    "plt.legend(loc = 'lower left')\n",
    "\n",
    "fig.add_subplot(212)\n",
    "plt.plot(time[~bad_data], pdcflux[~bad_data], '.', label = 'PDC')\n",
    "plt.legend(loc = 'lower left')\n",
    "plt.xlabel('TIME (BTJD)')"
   ]
  },
  {
   "cell_type": "code",
   "execution_count": 33,
   "metadata": {},
   "outputs": [
    {
     "data": {
      "text/plain": [
       "'\\nfluxcent_col = lcdata[\\'MOM_CENTR1\\']\\nfluxcent_row = lcdata[\\'MOM_CENTR2\\']\\ndistance = ((fluxcent_col-np.nanmean(fluxcent_col))**2 + (fluxcent_row-np.nanmean(fluxcent_row))**2)**(0.5)\\n\\nmom_dump = np.bitwise_and(quality, 2**5) >= 1 \\n\\nplt.figure(figsize = (11,5))\\nplt.plot(time[~bad_data], distance[~bad_data], \\'.\\', label = \"mom_centr distance\")\\nplt.vlines(time[mom_dump], 0,.1, colors = \\'r\\', label = \"Momentum Dump\")\\nplt.xlabel(\\'TIME(BTKD)\\')\\nplt.legend(loc = \"upper left\")\\n'"
      ]
     },
     "execution_count": 33,
     "metadata": {},
     "output_type": "execute_result"
    }
   ],
   "source": [
    "'''\n",
    "fluxcent_col = lcdata['MOM_CENTR1']\n",
    "fluxcent_row = lcdata['MOM_CENTR2']\n",
    "distance = ((fluxcent_col-np.nanmean(fluxcent_col))**2 + (fluxcent_row-np.nanmean(fluxcent_row))**2)**(0.5)\n",
    "\n",
    "mom_dump = np.bitwise_and(quality, 2**5) >= 1 \n",
    "\n",
    "plt.figure(figsize = (11,5))\n",
    "plt.plot(time[~bad_data], distance[~bad_data], '.', label = \"mom_centr distance\")\n",
    "plt.vlines(time[mom_dump], 0,.1, colors = 'r', label = \"Momentum Dump\")\n",
    "plt.xlabel('TIME(BTKD)')\n",
    "plt.legend(loc = \"upper left\")\n",
    "'''"
   ]
  },
  {
   "cell_type": "code",
   "execution_count": 34,
   "metadata": {},
   "outputs": [],
   "source": [
    "lchdu.close()"
   ]
  },
  {
   "cell_type": "code",
   "execution_count": null,
   "metadata": {},
   "outputs": [],
   "source": []
  }
 ],
 "metadata": {
  "kernelspec": {
   "display_name": "Python 3",
   "language": "python",
   "name": "python3"
  },
  "language_info": {
   "codemirror_mode": {
    "name": "ipython",
    "version": 3
   },
   "file_extension": ".py",
   "mimetype": "text/x-python",
   "name": "python",
   "nbconvert_exporter": "python",
   "pygments_lexer": "ipython3",
   "version": "3.6.7"
  }
 },
 "nbformat": 4,
 "nbformat_minor": 2
}
